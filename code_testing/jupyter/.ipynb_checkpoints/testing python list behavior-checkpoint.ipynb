{
 "cells": [
  {
   "cell_type": "markdown",
   "id": "f0636810",
   "metadata": {},
   "source": [
    "### is the implementation of back_calculation in flow_core.py sensible?\n",
    "* what happens if a list is iterated over (for element in list) and in each iteration an element is appended to the list"
   ]
  },
  {
   "cell_type": "code",
   "execution_count": 3,
   "id": "8e7ad65f",
   "metadata": {},
   "outputs": [
    {
     "name": "stdout",
     "output_type": "stream",
     "text": [
      "0\n",
      "1\n",
      "2\n",
      "3\n",
      "4\n",
      "5\n"
     ]
    }
   ],
   "source": [
    "myList = [0,1,2]\n",
    "myOhterList =[3,4,5]\n",
    "\n",
    "\n",
    "for element in myList:\n",
    "    print(element)\n",
    "    for el in myOhterList:\n",
    "        if el not in myList:\n",
    "            myList.append(el)\n",
    "    "
   ]
  },
  {
   "cell_type": "markdown",
   "id": "757a9dd7",
   "metadata": {},
   "source": [
    "#### so, this works (changing list lenght during iteration over the list)\n",
    "* however, checking if an element is already in a list is a O(N) operation and might significantly slow down model runtimes\n",
    "* implementation with a dict {} --> checking if element/key exists in dict is O(1)\n",
    "\n",
    "roughly the following speed improvements might be expected:\n",
    "* Length of lA=1000, lB=1000 --> 75x\n",
    "* Length of lA=100, lB=100 --> 10x"
   ]
  },
  {
   "cell_type": "code",
   "execution_count": 22,
   "id": "4a7e73b0",
   "metadata": {},
   "outputs": [
    {
     "name": "stdout",
     "output_type": "stream",
     "text": [
      "108 µs ± 1.48 µs per loop (mean ± std. dev. of 7 runs, 10,000 loops each)\n"
     ]
    }
   ],
   "source": [
    "%%timeit\n",
    "lA=[x for x in range(100)]\n",
    "lB=[x for x in range(100,200)]\n",
    "\n",
    "for el in lB:\n",
    "    if el not in lA:\n",
    "        lA.append(el)"
   ]
  },
  {
   "cell_type": "code",
   "execution_count": 23,
   "id": "d335c2bc",
   "metadata": {},
   "outputs": [
    {
     "name": "stdout",
     "output_type": "stream",
     "text": [
      "13.3 µs ± 73.8 ns per loop (mean ± std. dev. of 7 runs, 100,000 loops each)\n"
     ]
    }
   ],
   "source": [
    "%%timeit\n",
    "dA={x:0 for x in range(100)}\n",
    "dB={x:0 for x in range(100,200)}\n",
    "\n",
    "for key2 in dB:\n",
    "    if key2 not in dA:\n",
    "        dA[key2]=0"
   ]
  },
  {
   "cell_type": "code",
   "execution_count": null,
   "id": "97a0b93b",
   "metadata": {},
   "outputs": [],
   "source": []
  }
 ],
 "metadata": {
  "kernelspec": {
   "display_name": "Python 3 (ipykernel)",
   "language": "python",
   "name": "python3"
  },
  "language_info": {
   "codemirror_mode": {
    "name": "ipython",
    "version": 3
   },
   "file_extension": ".py",
   "mimetype": "text/x-python",
   "name": "python",
   "nbconvert_exporter": "python",
   "pygments_lexer": "ipython3",
   "version": "3.10.4"
  }
 },
 "nbformat": 4,
 "nbformat_minor": 5
}
