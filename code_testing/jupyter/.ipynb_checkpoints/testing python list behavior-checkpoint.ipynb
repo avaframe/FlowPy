{
 "cells": [
  {
   "cell_type": "markdown",
   "id": "f0636810",
   "metadata": {},
   "source": [
    "### is the implementation of back_calculation in flow_core.py sensible?\n",
    "* what happens if a list is iterated over (for element in list) and in each iteration an element is appended to the list"
   ]
  },
  {
   "cell_type": "code",
   "execution_count": 3,
   "id": "8e7ad65f",
   "metadata": {},
   "outputs": [
    {
     "name": "stdout",
     "output_type": "stream",
     "text": [
      "0\n",
      "1\n",
      "2\n",
      "3\n",
      "4\n",
      "5\n"
     ]
    }
   ],
   "source": [
    "myList = [0,1,2]\n",
    "myOhterList =[3,4,5]\n",
    "\n",
    "\n",
    "for element in myList:\n",
    "    print(element)\n",
    "    for el in myOhterList:\n",
    "        if el not in myList:\n",
    "            myList.append(el)\n",
    "    "
   ]
  },
  {
   "cell_type": "markdown",
   "id": "757a9dd7",
   "metadata": {},
   "source": [
    "#### so, this works (changing list lenght during iteration over the list)\n",
    "* however, checking if an element is already in a list is a O(N) operation and might significantly slow down model runtimes\n",
    "* implementation with a dict {} --> checking if element/key exists in dict is O(1)\n",
    "\n",
    "roughly the following speed improvements might be expected:\n",
    "* Length of lA=1000, lB=1000 --> 75x\n",
    "* Length of lA=100, lB=100 --> 10x"
   ]
  },
  {
   "cell_type": "code",
   "execution_count": 22,
   "id": "4a7e73b0",
   "metadata": {},
   "outputs": [
    {
     "name": "stdout",
     "output_type": "stream",
     "text": [
      "108 µs ± 1.48 µs per loop (mean ± std. dev. of 7 runs, 10,000 loops each)\n"
     ]
    }
   ],
   "source": [
    "%%timeit\n",
    "lA=[x for x in range(100)]\n",
    "lB=[x for x in range(100,200)]\n",
    "\n",
    "for el in lB:\n",
    "    if el not in lA:\n",
    "        lA.append(el)"
   ]
  },
  {
   "cell_type": "code",
   "execution_count": 23,
   "id": "d335c2bc",
   "metadata": {},
   "outputs": [
    {
     "name": "stdout",
     "output_type": "stream",
     "text": [
      "13.3 µs ± 73.8 ns per loop (mean ± std. dev. of 7 runs, 100,000 loops each)\n"
     ]
    }
   ],
   "source": [
    "%%timeit\n",
    "dA={x:0 for x in range(100)}\n",
    "dB={x:0 for x in range(100,200)}\n",
    "\n",
    "for key2 in dB:\n",
    "    if key2 not in dA:\n",
    "        dA[key2]=0"
   ]
  },
  {
   "cell_type": "markdown",
   "id": "b2f8eb4e",
   "metadata": {},
   "source": [
    "#### checking if line 318 to 321 and 351 to 354 in flow_core.py does what it should (or is intended)"
   ]
  },
  {
   "cell_type": "code",
   "execution_count": 1,
   "id": "3b55d60b",
   "metadata": {},
   "outputs": [],
   "source": [
    "import numpy as np"
   ]
  },
  {
   "cell_type": "code",
   "execution_count": 4,
   "id": "b2326c63",
   "metadata": {},
   "outputs": [],
   "source": [
    "nodata=-9999\n",
    "DEM = np.arange(100).reshape(10,10) #Dummy DEM with larger extent (aka input DEM in Flow-Py)\n",
    "DEM[4,5]=-9999"
   ]
  },
  {
   "cell_type": "code",
   "execution_count": 5,
   "id": "f485f717",
   "metadata": {},
   "outputs": [
    {
     "data": {
      "text/plain": [
       "array([[    0,     1,     2,     3,     4,     5,     6,     7,     8,\n",
       "            9],\n",
       "       [   10,    11,    12,    13,    14,    15,    16,    17,    18,\n",
       "           19],\n",
       "       [   20,    21,    22,    23,    24,    25,    26,    27,    28,\n",
       "           29],\n",
       "       [   30,    31,    32,    33,    34,    35,    36,    37,    38,\n",
       "           39],\n",
       "       [   40,    41,    42,    43,    44, -9999,    46,    47,    48,\n",
       "           49],\n",
       "       [   50,    51,    52,    53,    54,    55,    56,    57,    58,\n",
       "           59],\n",
       "       [   60,    61,    62,    63,    64,    65,    66,    67,    68,\n",
       "           69],\n",
       "       [   70,    71,    72,    73,    74,    75,    76,    77,    78,\n",
       "           79],\n",
       "       [   80,    81,    82,    83,    84,    85,    86,    87,    88,\n",
       "           89],\n",
       "       [   90,    91,    92,    93,    94,    95,    96,    97,    98,\n",
       "           99]])"
      ]
     },
     "execution_count": 5,
     "metadata": {},
     "output_type": "execute_result"
    }
   ],
   "source": [
    "DEM"
   ]
  },
  {
   "cell_type": "code",
   "execution_count": 7,
   "id": "c407769e",
   "metadata": {},
   "outputs": [
    {
     "name": "stdout",
     "output_type": "stream",
     "text": [
      "(0,0) - not processed\n",
      "(0,1) - not processed\n",
      "(0,2) - not processed\n",
      "(0,3) - not processed\n",
      "(0,4) - not processed\n",
      "(0,5) - not processed\n",
      "(0,6) - not processed\n",
      "(0,7) - not processed\n",
      "(0,8) - not processed\n",
      "(0,9) - not processed\n",
      "(1,0) - not processed\n",
      "(1,1) - succ. processed\n",
      "(1,2) - succ. processed\n",
      "(1,3) - succ. processed\n",
      "(1,4) - succ. processed\n",
      "(1,5) - succ. processed\n",
      "(1,6) - succ. processed\n",
      "(1,7) - succ. processed\n",
      "(1,8) - succ. processed\n",
      "(1,9) - not processed\n",
      "(2,0) - not processed\n",
      "(2,1) - succ. processed\n",
      "(2,2) - succ. processed\n",
      "(2,3) - succ. processed\n",
      "(2,4) - succ. processed\n",
      "(2,5) - succ. processed\n",
      "(2,6) - succ. processed\n",
      "(2,7) - succ. processed\n",
      "(2,8) - succ. processed\n",
      "(2,9) - not processed\n",
      "(3,0) - not processed\n",
      "(3,1) - succ. processed\n",
      "(3,2) - succ. processed\n",
      "(3,3) - succ. processed\n",
      "(3,4) - not processed\n",
      "(3,5) - not processed\n",
      "(3,6) - not processed\n",
      "(3,7) - succ. processed\n",
      "(3,8) - succ. processed\n",
      "(3,9) - not processed\n",
      "(4,0) - not processed\n",
      "(4,1) - succ. processed\n",
      "(4,2) - succ. processed\n",
      "(4,3) - succ. processed\n",
      "(4,4) - not processed\n",
      "(4,5) - not processed\n",
      "(4,6) - not processed\n",
      "(4,7) - succ. processed\n",
      "(4,8) - succ. processed\n",
      "(4,9) - not processed\n",
      "(5,0) - not processed\n",
      "(5,1) - succ. processed\n",
      "(5,2) - succ. processed\n",
      "(5,3) - succ. processed\n",
      "(5,4) - not processed\n",
      "(5,5) - not processed\n",
      "(5,6) - not processed\n",
      "(5,7) - succ. processed\n",
      "(5,8) - succ. processed\n",
      "(5,9) - not processed\n",
      "(6,0) - not processed\n",
      "(6,1) - succ. processed\n",
      "(6,2) - succ. processed\n",
      "(6,3) - succ. processed\n",
      "(6,4) - succ. processed\n",
      "(6,5) - succ. processed\n",
      "(6,6) - succ. processed\n",
      "(6,7) - succ. processed\n",
      "(6,8) - succ. processed\n",
      "(6,9) - not processed\n",
      "(7,0) - not processed\n",
      "(7,1) - succ. processed\n",
      "(7,2) - succ. processed\n",
      "(7,3) - succ. processed\n",
      "(7,4) - succ. processed\n",
      "(7,5) - succ. processed\n",
      "(7,6) - succ. processed\n",
      "(7,7) - succ. processed\n",
      "(7,8) - succ. processed\n",
      "(7,9) - not processed\n",
      "(8,0) - not processed\n",
      "(8,1) - succ. processed\n",
      "(8,2) - succ. processed\n",
      "(8,3) - succ. processed\n",
      "(8,4) - succ. processed\n",
      "(8,5) - succ. processed\n",
      "(8,6) - succ. processed\n",
      "(8,7) - succ. processed\n",
      "(8,8) - succ. processed\n",
      "(8,9) - not processed\n",
      "(9,0) - not processed\n",
      "(9,1) - not processed\n",
      "(9,2) - not processed\n",
      "(9,3) - not processed\n",
      "(9,4) - not processed\n",
      "(9,5) - not processed\n",
      "(9,6) - not processed\n",
      "(9,7) - not processed\n",
      "(9,8) - not processed\n",
      "(9,9) - not processed\n"
     ]
    }
   ],
   "source": [
    "'''looping over large DEM and extracting dem_ng (3x3 neighbourhood) at each (i,j)'''\n",
    "for i in range(DEM.shape[0]):\n",
    "    for j in range(DEM.shape[1]):\n",
    "        dem_ng = DEM[i - 1:i + 2, j - 1:j + 2]\n",
    "        if (nodata in dem_ng) or np.size(dem_ng) < 9:\n",
    "            print('(%i,%i) - not processed'%(i,j))\n",
    "        else:\n",
    "            print('(%i,%i) - succ. processed'%(i,j))\n",
    "        "
   ]
  },
  {
   "cell_type": "markdown",
   "id": "969af53e",
   "metadata": {},
   "source": [
    "### O.K. - behavior as expected for start-cells:\n",
    "* StartCells (release pixels) at the edge of the DEM are not considered\n",
    "* StartCells (release pixels) having a noData Cell in the 3x3 neighbourhood are not considered\n",
    "\n",
    "##### not 100% sure what happens if cell is not start-cell\n",
    "* behavior 1) all cells adjacent to a no-data cell or the edge of a dem are not considered (i.e. producing a 1 pixel buffer at the edges and 1 pixel buffer around noData cells in the DEM.\n",
    "* behavior 2) cells are just not considered valid center cells, but spreading to the 'edge cells/cases' is not supressed (would not produce the 1 pixel buffer around noData cells and DEM edges)\n"
   ]
  },
  {
   "cell_type": "code",
   "execution_count": null,
   "id": "02888443",
   "metadata": {},
   "outputs": [],
   "source": []
  }
 ],
 "metadata": {
  "kernelspec": {
   "display_name": "Python 3 (ipykernel)",
   "language": "python",
   "name": "python3"
  },
  "language_info": {
   "codemirror_mode": {
    "name": "ipython",
    "version": 3
   },
   "file_extension": ".py",
   "mimetype": "text/x-python",
   "name": "python",
   "nbconvert_exporter": "python",
   "pygments_lexer": "ipython3",
   "version": "3.10.4"
  }
 },
 "nbformat": 4,
 "nbformat_minor": 5
}
