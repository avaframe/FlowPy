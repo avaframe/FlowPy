{
 "cells": [
  {
   "cell_type": "code",
   "execution_count": 1,
   "id": "c57d5457",
   "metadata": {},
   "outputs": [],
   "source": [
    "import numpy as np"
   ]
  },
  {
   "cell_type": "code",
   "execution_count": 3,
   "id": "84f0a3ac",
   "metadata": {},
   "outputs": [
    {
     "data": {
      "text/plain": [
       "3.141592653589793"
      ]
     },
     "execution_count": 3,
     "metadata": {},
     "output_type": "execute_result"
    }
   ],
   "source": [
    "np.deg2rad(180)"
   ]
  },
  {
   "cell_type": "code",
   "execution_count": 51,
   "id": "d4654ae3",
   "metadata": {},
   "outputs": [],
   "source": [
    "dist = np.array([[0,0,0],[0.25,0,0.15],[0.15,0.25,.2]],dtype=float)\n",
    "threshold = 0.2"
   ]
  },
  {
   "cell_type": "code",
   "execution_count": 52,
   "id": "57f229f8",
   "metadata": {},
   "outputs": [
    {
     "data": {
      "text/plain": [
       "array([[0.  , 0.  , 0.  ],\n",
       "       [0.25, 0.  , 0.15],\n",
       "       [0.15, 0.25, 0.2 ]])"
      ]
     },
     "execution_count": 52,
     "metadata": {},
     "output_type": "execute_result"
    }
   ],
   "source": [
    "dist"
   ]
  },
  {
   "cell_type": "code",
   "execution_count": 53,
   "id": "f256efe8",
   "metadata": {},
   "outputs": [],
   "source": [
    "count = ((0 < dist) & (dist < threshold))"
   ]
  },
  {
   "cell_type": "code",
   "execution_count": 54,
   "id": "5b42d4db",
   "metadata": {},
   "outputs": [
    {
     "data": {
      "text/plain": [
       "array([[False, False, False],\n",
       "       [False, False,  True],\n",
       "       [ True, False, False]])"
      ]
     },
     "execution_count": 54,
     "metadata": {},
     "output_type": "execute_result"
    }
   ],
   "source": [
    "count"
   ]
  },
  {
   "cell_type": "code",
   "execution_count": 40,
   "id": "d43b64b0",
   "metadata": {},
   "outputs": [
    {
     "data": {
      "text/plain": [
       "0"
      ]
     },
     "execution_count": 40,
     "metadata": {},
     "output_type": "execute_result"
    }
   ],
   "source": [
    "((0 < dist) & (dist < threshold)).sum()"
   ]
  },
  {
   "cell_type": "code",
   "execution_count": 55,
   "id": "34b75002",
   "metadata": {},
   "outputs": [],
   "source": [
    "row_local, col_local = np.where(dist > threshold)"
   ]
  },
  {
   "cell_type": "code",
   "execution_count": 56,
   "id": "228bb5b3",
   "metadata": {},
   "outputs": [
    {
     "data": {
      "text/plain": [
       "array([1, 2])"
      ]
     },
     "execution_count": 56,
     "metadata": {},
     "output_type": "execute_result"
    }
   ],
   "source": [
    "row_local"
   ]
  },
  {
   "cell_type": "code",
   "execution_count": 57,
   "id": "e4ffd6c5",
   "metadata": {},
   "outputs": [
    {
     "data": {
      "text/plain": [
       "array([0, 1])"
      ]
     },
     "execution_count": 57,
     "metadata": {},
     "output_type": "execute_result"
    }
   ],
   "source": [
    "col_local"
   ]
  },
  {
   "cell_type": "code",
   "execution_count": 58,
   "id": "3eb12ad7",
   "metadata": {},
   "outputs": [
    {
     "data": {
      "text/plain": [
       "array([0.25, 0.25])"
      ]
     },
     "execution_count": 58,
     "metadata": {},
     "output_type": "execute_result"
    }
   ],
   "source": [
    "dist[row_local,col_local]"
   ]
  },
  {
   "cell_type": "code",
   "execution_count": null,
   "id": "02d3cbeb",
   "metadata": {},
   "outputs": [],
   "source": []
  }
 ],
 "metadata": {
  "kernelspec": {
   "display_name": "Python 3 (ipykernel)",
   "language": "python",
   "name": "python3"
  },
  "language_info": {
   "codemirror_mode": {
    "name": "ipython",
    "version": 3
   },
   "file_extension": ".py",
   "mimetype": "text/x-python",
   "name": "python",
   "nbconvert_exporter": "python",
   "pygments_lexer": "ipython3",
   "version": "3.10.4"
  }
 },
 "nbformat": 4,
 "nbformat_minor": 5
}
